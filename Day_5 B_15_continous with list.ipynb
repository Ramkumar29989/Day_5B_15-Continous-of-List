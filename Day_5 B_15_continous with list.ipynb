{
 "cells": [
  {
   "cell_type": "code",
   "execution_count": 1,
   "metadata": {},
   "outputs": [
    {
     "name": "stdout",
     "output_type": "stream",
     "text": [
      "['soumya', 'bhoopati', 'ravi', 'bharat', 'sukanya', 'ram']\n"
     ]
    }
   ],
   "source": [
    "students = ['soumya','bhoopati','ravi','bharat','sukanya','ram']\n",
    "print(students)"
   ]
  },
  {
   "cell_type": "code",
   "execution_count": 2,
   "metadata": {},
   "outputs": [
    {
     "data": {
      "text/plain": [
       "list"
      ]
     },
     "execution_count": 2,
     "metadata": {},
     "output_type": "execute_result"
    }
   ],
   "source": [
    "type(students)"
   ]
  },
  {
   "cell_type": "code",
   "execution_count": null,
   "metadata": {},
   "outputs": [],
   "source": [
    "introduction to organising a list;\n",
    "\n",
    "permanant sorting by sorting method\n"
   ]
  },
  {
   "cell_type": "code",
   "execution_count": null,
   "metadata": {},
   "outputs": [],
   "source": [
    "Req: TO arrange my list in a alhabetical order"
   ]
  },
  {
   "cell_type": "code",
   "execution_count": 3,
   "metadata": {},
   "outputs": [
    {
     "name": "stdout",
     "output_type": "stream",
     "text": [
      "['bharat', 'bhoopati', 'ram', 'ravi', 'soumya', 'sukanya']\n"
     ]
    }
   ],
   "source": [
    "students.sort()\n",
    "print(students)"
   ]
  },
  {
   "cell_type": "code",
   "execution_count": null,
   "metadata": {},
   "outputs": [],
   "source": [
    "whenever we are using sort method -- changes will be applies permanantly"
   ]
  },
  {
   "cell_type": "code",
   "execution_count": null,
   "metadata": {},
   "outputs": [],
   "source": [
    "how to achieve temp sorting;"
   ]
  },
  {
   "cell_type": "code",
   "execution_count": 4,
   "metadata": {},
   "outputs": [
    {
     "name": "stdout",
     "output_type": "stream",
     "text": [
      "['harsha', 'latha', 'kiran', 'saif', 'srinivas', 'arunraja', 'deeksha']\n"
     ]
    }
   ],
   "source": [
    "my_students = ['harsha','latha','kiran','saif','srinivas','arunraja','deeksha']\n",
    "print(my_students)"
   ]
  },
  {
   "cell_type": "code",
   "execution_count": 5,
   "metadata": {},
   "outputs": [
    {
     "name": "stdout",
     "output_type": "stream",
     "text": [
      "['arunraja', 'deeksha', 'harsha', 'kiran', 'latha', 'saif', 'srinivas']\n"
     ]
    }
   ],
   "source": [
    "print(sorted(my_students))"
   ]
  },
  {
   "cell_type": "code",
   "execution_count": 6,
   "metadata": {},
   "outputs": [
    {
     "name": "stdout",
     "output_type": "stream",
     "text": [
      "['harsha', 'latha', 'kiran', 'saif', 'srinivas', 'arunraja', 'deeksha']\n"
     ]
    }
   ],
   "source": [
    "print (my_students)"
   ]
  },
  {
   "cell_type": "code",
   "execution_count": 9,
   "metadata": {},
   "outputs": [],
   "source": [
    "my_students.sort()"
   ]
  },
  {
   "cell_type": "code",
   "execution_count": null,
   "metadata": {},
   "outputs": [],
   "source": [
    "how to print a list in a reverse order:"
   ]
  },
  {
   "cell_type": "code",
   "execution_count": 10,
   "metadata": {},
   "outputs": [
    {
     "name": "stdout",
     "output_type": "stream",
     "text": [
      "['srinivas', 'saif', 'latha', 'kiran', 'harsha', 'deeksha', 'arunraja']\n"
     ]
    }
   ],
   "source": [
    "my_students.reverse()\n",
    "print (my_students)"
   ]
  },
  {
   "cell_type": "code",
   "execution_count": null,
   "metadata": {},
   "outputs": [],
   "source": [
    "how to calculate the length of the elements in a list:"
   ]
  },
  {
   "cell_type": "code",
   "execution_count": 11,
   "metadata": {},
   "outputs": [
    {
     "data": {
      "text/plain": [
       "7"
      ]
     },
     "execution_count": 11,
     "metadata": {},
     "output_type": "execute_result"
    }
   ],
   "source": [
    "len(my_students)"
   ]
  },
  {
   "cell_type": "code",
   "execution_count": null,
   "metadata": {},
   "outputs": [],
   "source": [
    "Introduction to zen pfof python: Rule book - Tim peter"
   ]
  },
  {
   "cell_type": "code",
   "execution_count": null,
   "metadata": {},
   "outputs": [],
   "source": [
    "Beautiful is better than ugly.\n",
    "Explicit is better than implicit.\n",
    "Simple is better than Complex.\n",
    "complex is better than complicated.\n",
    "flat is better than nested.\n",
    "sparse is better than dense.\n",
    "Readability counts.\n",
    "Special cases arenot special enough to break the rules.\n",
    "Although practicality beats purity.\n",
    "Errors should never pass silently.\n",
    "unless explicitly silneced.\n",
    "in the face of ambiguity , refuce the temptation to guess.\n",
    "There should be one--and preferebly only one -- obvious way to do it.\n",
    "Although that way may not be obvious at first unless youre Dutch.\n",
    "Now is better than ever.\n",
    "Although never is often better than *right* now.\n",
    "if the implementation is hadr to explain , it is a bad idea.\n",
    "if the implementation is easy to explain , it may be a good idea.\n",
    "Namespaces are one honking great idea -- let's do more of those."
   ]
  }
 ],
 "metadata": {
  "kernelspec": {
   "display_name": "Python 3",
   "language": "python",
   "name": "python3"
  },
  "language_info": {
   "codemirror_mode": {
    "name": "ipython",
    "version": 3
   },
   "file_extension": ".py",
   "mimetype": "text/x-python",
   "name": "python",
   "nbconvert_exporter": "python",
   "pygments_lexer": "ipython3",
   "version": "3.7.6"
  }
 },
 "nbformat": 4,
 "nbformat_minor": 4
}
